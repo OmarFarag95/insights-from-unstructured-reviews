{
 "metadata": {
  "language_info": {
   "codemirror_mode": {
    "name": "ipython",
    "version": 3
   },
   "file_extension": ".py",
   "mimetype": "text/x-python",
   "name": "python",
   "nbconvert_exporter": "python",
   "pygments_lexer": "ipython3",
   "version": "3.6.9-final"
  },
  "orig_nbformat": 2,
  "kernelspec": {
   "name": "python3",
   "display_name": "Python 3",
   "language": "python"
  }
 },
 "nbformat": 4,
 "nbformat_minor": 2,
 "cells": [
  {
   "source": [],
   "cell_type": "markdown",
   "metadata": {}
  },
  {
   "cell_type": "code",
   "execution_count": null,
   "metadata": {},
   "outputs": [],
   "source": [
    "#!wget -c \"https://s3.amazonaws.com/dl4j-distribution/GoogleNews-vectors-negative300.bin.gz\"\n",
    "#!gzip -d /content/GoogleNews-vectors-negative300.bin.gz"
   ]
  },
  {
   "cell_type": "code",
   "execution_count": null,
   "metadata": {},
   "outputs": [],
   "source": [
    "import os\n",
    "import pandas as pd\n",
    "from gensim.models import KeyedVectors\n",
    "import utils\n",
    "import matplotlib.pyplot as plt\n",
    "from wordcloud import WordCloud\n",
    "import matplotlib.cm as cm"
   ]
  },
  {
   "cell_type": "code",
   "execution_count": null,
   "metadata": {},
   "outputs": [],
   "source": [
    "## Initialize Word2Vec model\n",
    "google_word2vec = KeyedVectors.load_word2vec_format('GoogleNews-vectors-negative300.bin' ,binary=True)"
   ]
  },
  {
   "cell_type": "code",
   "execution_count": null,
   "metadata": {},
   "outputs": [],
   "source": []
  },
  {
   "source": [
    "## Define Topics"
   ],
   "cell_type": "markdown",
   "metadata": {}
  },
  {
   "cell_type": "code",
   "execution_count": null,
   "metadata": {},
   "outputs": [],
   "source": [
    "topics = sorted([\"condition\",\n",
    "\"lighting\",\n",
    "\"customer service\",\n",
    "\"trash\",\n",
    "\"cleanliness\",\n",
    "\"packages\",\n",
    "\"noise\",\n",
    "\"grounds\",\n",
    "\"landscaping\",\n",
    "\"maintenance\",\n",
    "\"financial\",\n",
    "\"move\",\n",
    "\"pests\",\n",
    "\"covid\",\n",
    "\"apartment\",\n",
    "\"community\",\n",
    "\"security\"])"
   ]
  },
  {
   "cell_type": "code",
   "execution_count": null,
   "metadata": {},
   "outputs": [],
   "source": [
    "# Define some predefined keywords for each topic\n",
    "predefined_keywords = {\"customer service\":[\"team\",\"staff\",\"crew\",\"communication\",\"attitude\"],\n",
    "\"security\":[\"emergency\",\"locked down\",\"locked\",\"parking\"],\n",
    "\"landscaping\" :[\"landscapes\", \"place\"],\n",
    "\"maintenance\":[\"location\",\"maintain\",\"maintained\"],\n",
    "\"trash\":[\"recycling\"],\n",
    "\"covid\": [\"panademic\",\"mask\"],\n",
    "\"apartment\":[\"carpet\",\"appliances\"],\n",
    "\"community\":[\"neighbour\",\"neighbours\",\"society\"],\n",
    "\"financial\": [\"affordable\",\"money\",\"fees\",\"salary\"]\n",
    "}"
   ]
  },
  {
   "cell_type": "code",
   "execution_count": null,
   "metadata": {},
   "outputs": [],
   "source": [
    "topics_vs_keywords = {key : {key} for key in topics}\n",
    "\n",
    "# add the predefined keywords to the original dict\n",
    "for key,values in predefined_keywords.items():\n",
    "  for v in values:\n",
    "    topics_vs_keywords[key].add(v)\n"
   ]
  },
  {
   "cell_type": "code",
   "execution_count": null,
   "metadata": {},
   "outputs": [],
   "source": [
    "## Read data files"
   ]
  },
  {
   "cell_type": "code",
   "execution_count": null,
   "metadata": {},
   "outputs": [],
   "source": [
    "df_frames = []\n",
    "for file in os.listdir(\"./data\"):\n",
    "    if file.endswith(\".csv\"):\n",
    "        df_frames.append(pd.read_csv(f\"./data/{file}\"))\n",
    "\n",
    "data = pd.concat(df_frames) \n",
    "data.head()"
   ]
  },
  {
   "cell_type": "code",
   "execution_count": null,
   "metadata": {},
   "outputs": [],
   "source": [
    "## remove nulls from dataset\n",
    "filtered_data = data[ (data[\"ACTUAL REVIEW\"].notnull()) & (data[\"ACTUAL REVIEW\"]!=u'') ]\n",
    "print(f\"Size of dataset: {len(filtered_data)}\")"
   ]
  },
  {
   "source": [
    "### Data preprocessing and preparation"
   ],
   "cell_type": "markdown",
   "metadata": {}
  },
  {
   "cell_type": "code",
   "execution_count": null,
   "metadata": {},
   "outputs": [],
   "source": [
    "filtered_data[\"processed_review\"] = filtered_data[\"ACTUAL REVIEW\"].apply(lambda x: utils.detect_language_and_translate(x.lower()))\n",
    "\n",
    "filtered_data[\"clean_review\"] = filtered_data[\"processed_review\"].apply(lambda x: utils.preprocess_text(x,True))\n",
    "\n",
    "filtered_data[\"clean_actual_review\"] = filtered_data[\"processed_review\"].apply(lambda x: utils.preprocess_text(x,False))"
   ]
  },
  {
   "cell_type": "code",
   "execution_count": null,
   "metadata": {},
   "outputs": [],
   "source": [
    "text = filtered_data[\"clean_review\"].values\n",
    "wc_toxic = WordCloud(background_color=\"black\",stopwords=  utils.stopwords)\n",
    "wc_toxic.generate(\" \".join(text))\n",
    "plt.figure(figsize=(20,10))\n",
    "plt.axis(\"off\")\n",
    "plt.title(\"frequent words in reviews\", fontsize=20)\n",
    "plt.imshow(wc_toxic.recolor(colormap= 'viridis' , random_state=17), alpha=0.98)\n",
    "plt.show()"
   ]
  },
  {
   "cell_type": "code",
   "execution_count": null,
   "metadata": {},
   "outputs": [],
   "source": [
    "topics_vs_keywords = utils.extract_keywords(filtered_data, topics, google_word2vec, topics_vs_keywords)"
   ]
  },
  {
   "cell_type": "code",
   "execution_count": null,
   "metadata": {},
   "outputs": [],
   "source": []
  }
 ]
}