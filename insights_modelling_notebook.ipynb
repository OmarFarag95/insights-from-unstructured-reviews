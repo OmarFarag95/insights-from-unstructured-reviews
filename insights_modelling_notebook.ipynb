{
 "metadata": {
  "language_info": {
   "codemirror_mode": {
    "name": "ipython",
    "version": 3
   },
   "file_extension": ".py",
   "mimetype": "text/x-python",
   "name": "python",
   "nbconvert_exporter": "python",
   "pygments_lexer": "ipython3",
   "version": "3.6.9-final"
  },
  "orig_nbformat": 2,
  "kernelspec": {
   "name": "python3",
   "display_name": "Python 3",
   "language": "python"
  }
 },
 "nbformat": 4,
 "nbformat_minor": 2,
 "cells": [
  {
   "source": [],
   "cell_type": "markdown",
   "metadata": {}
  },
  {
   "cell_type": "code",
   "execution_count": null,
   "metadata": {},
   "outputs": [],
   "source": [
    "#!wget -c \"https://s3.amazonaws.com/dl4j-distribution/GoogleNews-vectors-negative300.bin.gz\"\n",
    "#!gzip -d /content/GoogleNews-vectors-negative300.bin.gz"
   ]
  },
  {
   "cell_type": "code",
   "execution_count": 16,
   "metadata": {},
   "outputs": [],
   "source": [
    "import os\n",
    "import json\n",
    "import pandas as pd\n",
    "import utils\n",
    "import matplotlib.pyplot as plt\n",
    "from wordcloud import WordCloud\n",
    "import matplotlib.cm as cm"
   ]
  },
  {
   "source": [
    "## Define Topics"
   ],
   "cell_type": "markdown",
   "metadata": {}
  },
  {
   "cell_type": "code",
   "execution_count": null,
   "metadata": {},
   "outputs": [],
   "source": [
    "topics = sorted([\"condition\",\n",
    "\"lighting\",\n",
    "\"customer service\",\n",
    "\"trash\",\n",
    "\"cleanliness\",\n",
    "\"packages\",\n",
    "\"noise\",\n",
    "\"grounds\",\n",
    "\"landscaping\",\n",
    "\"maintenance\",\n",
    "\"financial\",\n",
    "\"move\",\n",
    "\"pests\",\n",
    "\"covid\",\n",
    "\"apartment\",\n",
    "\"community\",\n",
    "\"security\"])"
   ]
  },
  {
   "cell_type": "code",
   "execution_count": null,
   "metadata": {},
   "outputs": [],
   "source": [
    "# Define some predefined keywords for each topic\n",
    "predefined_keywords = {\"customer service\":[\"team\",\"staff\",\"crew\",\"communication\",\"attitude\"],\n",
    "\"security\":[\"emergency\",\"locked down\",\"locked\",\"parking\"],\n",
    "\"landscaping\" :[\"landscapes\", \"place\"],\n",
    "\"maintenance\":[\"location\",\"maintain\",\"maintained\"],\n",
    "\"trash\":[\"recycling\"],\n",
    "\"covid\": [\"panademic\",\"mask\"],\n",
    "\"apartment\":[\"carpet\",\"appliances\"],\n",
    "\"community\":[\"neighbour\",\"neighbours\",\"society\"],\n",
    "\"financial\": [\"affordable\",\"money\",\"fees\",\"salary\"]\n",
    "}"
   ]
  },
  {
   "cell_type": "code",
   "execution_count": null,
   "metadata": {},
   "outputs": [],
   "source": [
    "topics_vs_keywords = {key : {key} for key in topics}\n",
    "\n",
    "# add the predefined keywords to the original dict\n",
    "for key,values in predefined_keywords.items():\n",
    "  for v in values:\n",
    "    topics_vs_keywords[key].add(v)\n"
   ]
  },
  {
   "cell_type": "code",
   "execution_count": null,
   "metadata": {},
   "outputs": [],
   "source": [
    "## Read data files"
   ]
  },
  {
   "cell_type": "code",
   "execution_count": null,
   "metadata": {},
   "outputs": [],
   "source": [
    "df_frames = []\n",
    "for file in os.listdir(\"./data\"):\n",
    "    if file.endswith(\".csv\"):\n",
    "        df_frames.append(pd.read_csv(f\"./data/{file}\"))\n",
    "\n",
    "data = pd.concat(df_frames) \n",
    "data.head()"
   ]
  },
  {
   "cell_type": "code",
   "execution_count": null,
   "metadata": {},
   "outputs": [],
   "source": [
    "## remove nulls from dataset\n",
    "filtered_data = data[ (data[\"ACTUAL REVIEW\"].notnull()) & (data[\"ACTUAL REVIEW\"]!=u'') ]\n",
    "print(f\"Size of dataset: {len(filtered_data)}\")"
   ]
  },
  {
   "source": [
    "### Data preprocessing and preparation"
   ],
   "cell_type": "markdown",
   "metadata": {}
  },
  {
   "cell_type": "code",
   "execution_count": null,
   "metadata": {},
   "outputs": [],
   "source": [
    "filtered_data[\"processed_review\"] = filtered_data[\"ACTUAL REVIEW\"].apply(lambda x: utils.detect_language_and_translate(x.lower()))\n",
    "\n",
    "filtered_data[\"clean_review\"] = filtered_data[\"processed_review\"].apply(lambda x: utils.preprocess_text(x,True))\n",
    "\n",
    "filtered_data[\"clean_actual_review\"] = filtered_data[\"processed_review\"].apply(lambda x: utils.preprocess_text(x,False))"
   ]
  },
  {
   "cell_type": "code",
   "execution_count": null,
   "metadata": {},
   "outputs": [],
   "source": [
    "text = filtered_data[\"clean_review\"].values\n",
    "wc_toxic = WordCloud(background_color=\"black\",stopwords=  utils.stopwords)\n",
    "wc_toxic.generate(\" \".join(text))\n",
    "plt.figure(figsize=(20,10))\n",
    "plt.axis(\"off\")\n",
    "plt.title(\"frequent words in reviews\", fontsize=20)\n",
    "plt.imshow(wc_toxic.recolor(colormap= 'viridis' , random_state=17), alpha=0.98)\n",
    "plt.show()"
   ]
  },
  {
   "cell_type": "code",
   "execution_count": 15,
   "metadata": {},
   "outputs": [
    {
     "output_type": "error",
     "ename": "NameError",
     "evalue": "name 'google_word2vec' is not defined",
     "traceback": [
      "\u001b[0;31m---------------------------------------------------------------------------\u001b[0m",
      "\u001b[0;31mNameError\u001b[0m                                 Traceback (most recent call last)",
      "\u001b[0;32m<ipython-input-15-8363f1aac79d>\u001b[0m in \u001b[0;36m<module>\u001b[0;34m\u001b[0m\n\u001b[0;32m----> 1\u001b[0;31m \u001b[0mtopics_vs_keywords\u001b[0m \u001b[0;34m=\u001b[0m \u001b[0mutils\u001b[0m\u001b[0;34m.\u001b[0m\u001b[0mextract_keywords\u001b[0m\u001b[0;34m(\u001b[0m\u001b[0mfiltered_data\u001b[0m\u001b[0;34m,\u001b[0m \u001b[0mtopics\u001b[0m\u001b[0;34m,\u001b[0m \u001b[0mgoogle_word2vec\u001b[0m\u001b[0;34m,\u001b[0m \u001b[0mtopics_vs_keywords\u001b[0m\u001b[0;34m)\u001b[0m\u001b[0;34m\u001b[0m\u001b[0;34m\u001b[0m\u001b[0m\n\u001b[0m",
      "\u001b[0;31mNameError\u001b[0m: name 'google_word2vec' is not defined"
     ]
    }
   ],
   "source": [
    "topics_vs_keywords = utils.extract_keywords(filtered_data, topics, google_word2vec, topics_vs_keywords)\n",
    "keywords_vs_topics, topics_vs_keywords_expanded = utils.get_keywords_vs_topics(topics_vs_keywords)"
   ]
  },
  {
   "cell_type": "code",
   "execution_count": 17,
   "metadata": {},
   "outputs": [
    {
     "output_type": "error",
     "ename": "NameError",
     "evalue": "name 'topics_vs_keywords_expanded' is not defined",
     "traceback": [
      "\u001b[0;31m---------------------------------------------------------------------------\u001b[0m",
      "\u001b[0;31mNameError\u001b[0m                                 Traceback (most recent call last)",
      "\u001b[0;32m<ipython-input-17-ba528b5175f1>\u001b[0m in \u001b[0;36m<module>\u001b[0;34m\u001b[0m\n\u001b[0;32m----> 1\u001b[0;31m \u001b[0;32mfor\u001b[0m \u001b[0mkey\u001b[0m \u001b[0;32min\u001b[0m \u001b[0mtopics_vs_keywords_expanded\u001b[0m\u001b[0;34m:\u001b[0m\u001b[0;34m\u001b[0m\u001b[0;34m\u001b[0m\u001b[0m\n\u001b[0m\u001b[1;32m      2\u001b[0m   \u001b[0mtopics_vs_keywords_expanded\u001b[0m\u001b[0;34m[\u001b[0m\u001b[0mkey\u001b[0m\u001b[0;34m]\u001b[0m \u001b[0;34m=\u001b[0m \u001b[0mlist\u001b[0m\u001b[0;34m(\u001b[0m\u001b[0mtopics_vs_keywords_expanded\u001b[0m\u001b[0;34m.\u001b[0m\u001b[0mget\u001b[0m\u001b[0;34m(\u001b[0m\u001b[0mkey\u001b[0m\u001b[0;34m)\u001b[0m\u001b[0;34m)\u001b[0m\u001b[0;34m\u001b[0m\u001b[0;34m\u001b[0m\u001b[0m\n\u001b[1;32m      3\u001b[0m \u001b[0;34m\u001b[0m\u001b[0m\n\u001b[1;32m      4\u001b[0m \u001b[0;32mwith\u001b[0m \u001b[0mopen\u001b[0m\u001b[0;34m(\u001b[0m\u001b[0;34m'keywords.json'\u001b[0m\u001b[0;34m,\u001b[0m\u001b[0;34m'w'\u001b[0m\u001b[0;34m)\u001b[0m \u001b[0;32mas\u001b[0m \u001b[0mf\u001b[0m\u001b[0;34m:\u001b[0m\u001b[0;34m\u001b[0m\u001b[0;34m\u001b[0m\u001b[0m\n\u001b[1;32m      5\u001b[0m   \u001b[0mjson\u001b[0m\u001b[0;34m.\u001b[0m\u001b[0mdump\u001b[0m\u001b[0;34m(\u001b[0m\u001b[0mtopics_vs_keywords_expanded\u001b[0m\u001b[0;34m,\u001b[0m\u001b[0mf\u001b[0m\u001b[0;34m)\u001b[0m\u001b[0;34m\u001b[0m\u001b[0;34m\u001b[0m\u001b[0m\n",
      "\u001b[0;31mNameError\u001b[0m: name 'topics_vs_keywords_expanded' is not defined"
     ]
    }
   ],
   "source": [
    "for key in topics_vs_keywords_expanded:\n",
    "  topics_vs_keywords_expanded[key] = list(topics_vs_keywords_expanded.get(key))\n",
    "\n",
    "with open('keywords.json','w') as f:\n",
    "  json.dump(topics_vs_keywords_expanded,f)"
   ]
  },
  {
   "cell_type": "code",
   "execution_count": null,
   "metadata": {},
   "outputs": [],
   "source": [
    "filtered_data[\"topics\"] = filtered_data[\"clean_review\"].apply(lambda x: utils.extract_topics(x,keywords,topics)[0])\n",
    "filtered_data[\"indices\"] = filtered_data[\"clean_review\"].apply(lambda x: utils.extract_topics(x,keywords,topics)[1])\n",
    "filtered_data[\"sentiment\"] = filtered_data[\"clean_actual_review\"].apply(lambda x: utils.predict_sentiment(x))"
   ]
  }
 ]
}